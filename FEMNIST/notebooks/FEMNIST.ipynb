{
 "cells": [
  {
   "cell_type": "markdown",
   "metadata": {},
   "source": [
    "# Federated EMNIST solution"
   ]
  },
  {
   "cell_type": "code",
   "execution_count": 1,
   "metadata": {},
   "outputs": [],
   "source": [
    "import torch\n",
    "import torch.nn as nn\n",
    "import torch.nn.functional as F\n",
    "import torch.optim as optim\n",
    "from torchvision import datasets, transforms\n",
    "\n",
    "%matplotlib inline "
   ]
  },
  {
   "cell_type": "code",
   "execution_count": 2,
   "metadata": {
    "collapsed": true,
    "jupyter": {
     "outputs_hidden": true
    }
   },
   "outputs": [
    {
     "name": "stderr",
     "output_type": "stream",
     "text": [
      "/home/erik/github_repo/federated-learning-healthcare-data/venv/lib/python3.6/site-packages/tensorflow/python/framework/dtypes.py:516: FutureWarning: Passing (type, 1) or '1type' as a synonym of type is deprecated; in a future version of numpy, it will be understood as (type, (1,)) / '(1,)type'.\n",
      "  _np_qint8 = np.dtype([(\"qint8\", np.int8, 1)])\n",
      "/home/erik/github_repo/federated-learning-healthcare-data/venv/lib/python3.6/site-packages/tensorflow/python/framework/dtypes.py:517: FutureWarning: Passing (type, 1) or '1type' as a synonym of type is deprecated; in a future version of numpy, it will be understood as (type, (1,)) / '(1,)type'.\n",
      "  _np_quint8 = np.dtype([(\"quint8\", np.uint8, 1)])\n",
      "/home/erik/github_repo/federated-learning-healthcare-data/venv/lib/python3.6/site-packages/tensorflow/python/framework/dtypes.py:518: FutureWarning: Passing (type, 1) or '1type' as a synonym of type is deprecated; in a future version of numpy, it will be understood as (type, (1,)) / '(1,)type'.\n",
      "  _np_qint16 = np.dtype([(\"qint16\", np.int16, 1)])\n",
      "/home/erik/github_repo/federated-learning-healthcare-data/venv/lib/python3.6/site-packages/tensorflow/python/framework/dtypes.py:519: FutureWarning: Passing (type, 1) or '1type' as a synonym of type is deprecated; in a future version of numpy, it will be understood as (type, (1,)) / '(1,)type'.\n",
      "  _np_quint16 = np.dtype([(\"quint16\", np.uint16, 1)])\n",
      "/home/erik/github_repo/federated-learning-healthcare-data/venv/lib/python3.6/site-packages/tensorflow/python/framework/dtypes.py:520: FutureWarning: Passing (type, 1) or '1type' as a synonym of type is deprecated; in a future version of numpy, it will be understood as (type, (1,)) / '(1,)type'.\n",
      "  _np_qint32 = np.dtype([(\"qint32\", np.int32, 1)])\n",
      "/home/erik/github_repo/federated-learning-healthcare-data/venv/lib/python3.6/site-packages/tensorflow/python/framework/dtypes.py:525: FutureWarning: Passing (type, 1) or '1type' as a synonym of type is deprecated; in a future version of numpy, it will be understood as (type, (1,)) / '(1,)type'.\n",
      "  np_resource = np.dtype([(\"resource\", np.ubyte, 1)])\n"
     ]
    },
    {
     "name": "stdout",
     "output_type": "stream",
     "text": [
      "WARNING:tensorflow:From /home/erik/github_repo/federated-learning-healthcare-data/venv/lib/python3.6/site-packages/tf_encrypted/session.py:24: The name tf.Session is deprecated. Please use tf.compat.v1.Session instead.\n",
      "\n"
     ]
    },
    {
     "name": "stderr",
     "output_type": "stream",
     "text": [
      "/home/erik/github_repo/federated-learning-healthcare-data/venv/lib/python3.6/site-packages/tensorboard/compat/tensorflow_stub/dtypes.py:541: FutureWarning: Passing (type, 1) or '1type' as a synonym of type is deprecated; in a future version of numpy, it will be understood as (type, (1,)) / '(1,)type'.\n",
      "  _np_qint8 = np.dtype([(\"qint8\", np.int8, 1)])\n",
      "/home/erik/github_repo/federated-learning-healthcare-data/venv/lib/python3.6/site-packages/tensorboard/compat/tensorflow_stub/dtypes.py:542: FutureWarning: Passing (type, 1) or '1type' as a synonym of type is deprecated; in a future version of numpy, it will be understood as (type, (1,)) / '(1,)type'.\n",
      "  _np_quint8 = np.dtype([(\"quint8\", np.uint8, 1)])\n",
      "/home/erik/github_repo/federated-learning-healthcare-data/venv/lib/python3.6/site-packages/tensorboard/compat/tensorflow_stub/dtypes.py:543: FutureWarning: Passing (type, 1) or '1type' as a synonym of type is deprecated; in a future version of numpy, it will be understood as (type, (1,)) / '(1,)type'.\n",
      "  _np_qint16 = np.dtype([(\"qint16\", np.int16, 1)])\n",
      "/home/erik/github_repo/federated-learning-healthcare-data/venv/lib/python3.6/site-packages/tensorboard/compat/tensorflow_stub/dtypes.py:544: FutureWarning: Passing (type, 1) or '1type' as a synonym of type is deprecated; in a future version of numpy, it will be understood as (type, (1,)) / '(1,)type'.\n",
      "  _np_quint16 = np.dtype([(\"quint16\", np.uint16, 1)])\n",
      "/home/erik/github_repo/federated-learning-healthcare-data/venv/lib/python3.6/site-packages/tensorboard/compat/tensorflow_stub/dtypes.py:545: FutureWarning: Passing (type, 1) or '1type' as a synonym of type is deprecated; in a future version of numpy, it will be understood as (type, (1,)) / '(1,)type'.\n",
      "  _np_qint32 = np.dtype([(\"qint32\", np.int32, 1)])\n",
      "/home/erik/github_repo/federated-learning-healthcare-data/venv/lib/python3.6/site-packages/tensorboard/compat/tensorflow_stub/dtypes.py:550: FutureWarning: Passing (type, 1) or '1type' as a synonym of type is deprecated; in a future version of numpy, it will be understood as (type, (1,)) / '(1,)type'.\n",
      "  np_resource = np.dtype([(\"resource\", np.ubyte, 1)])\n"
     ]
    }
   ],
   "source": [
    "# Federated environment setup with 8 remote workers\n",
    "import syft as sy\n",
    "hook = sy.TorchHook(torch) \n",
    "\n",
    "remote_workers = tuple(sy.VirtualWorker(hook, id=f'participant_{i}') for i in range(1, 9))"
   ]
  },
  {
   "cell_type": "code",
   "execution_count": 3,
   "metadata": {},
   "outputs": [],
   "source": [
    "class Arguments():\n",
    "    def __init__(self):\n",
    "        self.batch_size = 64\n",
    "        self.test_batch_size = 1000\n",
    "        self.epochs = 3\n",
    "        self.lr = 0.01\n",
    "        self.momentum = 0.9\n",
    "        self.no_cuda = False\n",
    "        self.seed = 1\n",
    "        self.save_model = True\n",
    "\n",
    "args = Arguments()\n",
    "\n",
    "use_cuda = not args.no_cuda and torch.cuda.is_available()\n",
    "\n",
    "torch.manual_seed(args.seed)\n",
    "\n",
    "device = torch.device(\"cuda\" if use_cuda else \"cpu\")\n",
    "\n",
    "kwargs = {'num_workers': 1, 'pin_memory': True} if use_cuda else {}"
   ]
  },
  {
   "cell_type": "markdown",
   "metadata": {},
   "source": [
    "## Load data and send it to the workers"
   ]
  },
  {
   "cell_type": "code",
   "execution_count": 4,
   "metadata": {},
   "outputs": [],
   "source": [
    "# Where to save EMNIST train and test data\n",
    "data_path = '../leaf/data/femnist/data/raw_data/'"
   ]
  },
  {
   "cell_type": "code",
   "execution_count": 5,
   "metadata": {},
   "outputs": [],
   "source": [
    "transform = transforms.Compose([transforms.ToTensor()])\n",
    "\n",
    "federated_train_loader = sy.FederatedDataLoader(\n",
    "    datasets.EMNIST(root=data_path, split='byclass', train=True, download=True,transform=transform)\n",
    "        .federate(remote_workers),\n",
    "    batch_size=args.batch_size, shuffle=True, **kwargs\n",
    ")\n",
    "\n",
    "test_loader = torch.utils.data.DataLoader(\n",
    "    datasets.EMNIST(root=data_path, split='byclass', train=False, download=True, transform=transform),\n",
    "    batch_size=args.test_batch_size, shuffle=False, **kwargs\n",
    ")\n",
    "\n",
    "\n",
    "classes = [str(i) for i in range(10)]\n",
    "classes += list(map(chr, range(65, 91)))\n",
    "classes += list(map(chr, range(97, 123)))"
   ]
  },
  {
   "cell_type": "markdown",
   "metadata": {},
   "source": [
    "### Define the network"
   ]
  },
  {
   "cell_type": "code",
   "execution_count": 6,
   "metadata": {},
   "outputs": [],
   "source": [
    "class Net(nn.Module):\n",
    "    def __init__(self):\n",
    "        super(Net, self).__init__()\n",
    "        self.conv1 = nn.Conv2d(1, 32, kernel_size=5)\n",
    "        self.conv2 = nn.Conv2d(32, 16, kernel_size=5)\n",
    "        self.fc1 = nn.Linear(16 * 4 * 4, 120)\n",
    "        self.fc2 = nn.Linear(120, 100)\n",
    "        self.fc3 = nn.Linear(100, 62)\n",
    "        self.pool = nn.MaxPool2d(2, 2)\n",
    "#         self.drop_out = nn.Dropout()\n",
    "\n",
    "    def forward(self, x):\n",
    "        x = self.pool(F.relu(self.conv1(x)))\n",
    "        x = self.pool(F.relu(self.conv2(x)))\n",
    "        x = x.view(-1, 16 * 4 * 4)\n",
    "        x = F.relu(self.fc1(x))\n",
    "        x = F.relu(self.fc2(x))\n",
    "        x = self.fc3(x)\n",
    "        return F.log_softmax(x, dim=1)\n",
    "\n",
    "\n",
    "net = Net().to(device)"
   ]
  },
  {
   "cell_type": "markdown",
   "metadata": {},
   "source": [
    "### Define Loss and Optimizer"
   ]
  },
  {
   "cell_type": "code",
   "execution_count": 7,
   "metadata": {},
   "outputs": [],
   "source": [
    "criterion = nn.CrossEntropyLoss()\n",
    "optimizer = optim.SGD(net.parameters(), lr=args.lr)"
   ]
  },
  {
   "cell_type": "markdown",
   "metadata": {},
   "source": [
    "## Train the model"
   ]
  },
  {
   "cell_type": "code",
   "execution_count": 8,
   "metadata": {},
   "outputs": [],
   "source": [
    "def train(args, net, device, federated_train_loader, optimizer, criterion, epoch):\n",
    "    net.train()\n",
    "    for i, (inputs, labels) in enumerate(federated_train_loader):\n",
    "        net.send(inputs.location) # Send model to appropriate worker\n",
    "        inputs, labels = inputs.to(device), labels.to(device)\n",
    "\n",
    "        # zero the parameter gradients\n",
    "        optimizer.zero_grad()\n",
    "\n",
    "        # forward + backward + optimize\n",
    "        outputs = net(inputs)\n",
    "        loss = criterion(outputs, labels)\n",
    "        loss.backward()\n",
    "        optimizer.step()\n",
    "        \n",
    "        # Get model back\n",
    "        net.get()\n",
    "\n",
    "        # print statistics\n",
    "        if i % 2000 == 1999:    \n",
    "            loss = loss.get()\n",
    "            # print every 2000 mini-batches\n",
    "            print('[%d, %5d] loss: %.3f' %\n",
    "                  (epoch + 1, i + 1, loss.item()))"
   ]
  },
  {
   "cell_type": "code",
   "execution_count": 9,
   "metadata": {},
   "outputs": [
    {
     "name": "stdout",
     "output_type": "stream",
     "text": [
      "[1,  2000] loss: 1.572\n",
      "[1,  4000] loss: 0.676\n",
      "[1,  6000] loss: 0.800\n",
      "[1,  8000] loss: 0.861\n",
      "[1, 10000] loss: 0.616\n",
      "[2,  2000] loss: 0.375\n",
      "[2,  4000] loss: 0.635\n",
      "[2,  6000] loss: 0.378\n",
      "[2,  8000] loss: 0.555\n",
      "[2, 10000] loss: 0.702\n",
      "[3,  2000] loss: 0.531\n",
      "[3,  4000] loss: 0.886\n",
      "[3,  6000] loss: 0.520\n",
      "[3,  8000] loss: 0.569\n",
      "[3, 10000] loss: 0.689\n",
      "Finished Training\n"
     ]
    }
   ],
   "source": [
    "# Launch training\n",
    "running_loss = 0.0\n",
    "for epoch in range(args.epochs):\n",
    "    train(args, net, device, federated_train_loader, optimizer, criterion, epoch)\n",
    "    \n",
    "\n",
    "print('Finished Training')"
   ]
  },
  {
   "cell_type": "markdown",
   "metadata": {},
   "source": [
    "## Save model"
   ]
  },
  {
   "cell_type": "code",
   "execution_count": 10,
   "metadata": {},
   "outputs": [],
   "source": [
    "model_path = 'femnist_v1.pth'\n",
    "\n",
    "if (args.save_model):\n",
    "    torch.save(net.state_dict(), model_path)"
   ]
  },
  {
   "cell_type": "markdown",
   "metadata": {},
   "source": [
    "## Test network on unseen data"
   ]
  },
  {
   "cell_type": "code",
   "execution_count": 11,
   "metadata": {},
   "outputs": [
    {
     "data": {
      "text/plain": [
       "<All keys matched successfully>"
      ]
     },
     "execution_count": 11,
     "metadata": {},
     "output_type": "execute_result"
    }
   ],
   "source": [
    "# Reload saved model\n",
    "net = Net().to(device)\n",
    "net.load_state_dict(torch.load(model_path))"
   ]
  },
  {
   "cell_type": "markdown",
   "metadata": {},
   "source": [
    "## Analyse Performance"
   ]
  },
  {
   "cell_type": "markdown",
   "metadata": {},
   "source": [
    "### Overall"
   ]
  },
  {
   "cell_type": "code",
   "execution_count": 12,
   "metadata": {},
   "outputs": [
    {
     "name": "stdout",
     "output_type": "stream",
     "text": [
      "Accuracy of the network on the 10000 test images: 83 %\n"
     ]
    }
   ],
   "source": [
    "correct = 0\n",
    "total = 0\n",
    "with torch.no_grad():\n",
    "    for data in test_loader:\n",
    "        images, labels = data\n",
    "        outputs = net(images)\n",
    "        _, predicted = torch.max(outputs.data, 1)\n",
    "        total += labels.size(0)\n",
    "        correct += (predicted == labels).sum().item()\n",
    "\n",
    "print('Accuracy of the network on the 10000 test images: %d %%' % (\n",
    "    100 * correct / total))"
   ]
  },
  {
   "cell_type": "markdown",
   "metadata": {},
   "source": [
    "### Per class"
   ]
  },
  {
   "cell_type": "code",
   "execution_count": 13,
   "metadata": {},
   "outputs": [
    {
     "name": "stdout",
     "output_type": "stream",
     "text": [
      "Accuracy of     0 : 85 %\n",
      "Accuracy of     1 : 95 %\n",
      "Accuracy of     2 : 95 %\n",
      "Accuracy of     3 : 97 %\n",
      "Accuracy of     4 : 95 %\n",
      "Accuracy of     5 : 73 %\n",
      "Accuracy of     6 : 95 %\n",
      "Accuracy of     7 : 98 %\n",
      "Accuracy of     8 : 96 %\n",
      "Accuracy of     9 : 97 %\n",
      "Accuracy of     A : 91 %\n",
      "Accuracy of     B : 82 %\n",
      "Accuracy of     C : 94 %\n",
      "Accuracy of     D : 86 %\n",
      "Accuracy of     E : 86 %\n",
      "Accuracy of     F : 90 %\n",
      "Accuracy of     G : 80 %\n",
      "Accuracy of     H : 89 %\n",
      "Accuracy of     I : 46 %\n",
      "Accuracy of     J : 74 %\n",
      "Accuracy of     K : 80 %\n",
      "Accuracy of     L : 91 %\n",
      "Accuracy of     M : 66 %\n",
      "Accuracy of     N : 98 %\n",
      "Accuracy of     O : 45 %\n",
      "Accuracy of     P : 92 %\n",
      "Accuracy of     Q : 80 %\n",
      "Accuracy of     R : 92 %\n",
      "Accuracy of     S : 97 %\n",
      "Accuracy of     T : 90 %\n",
      "Accuracy of     U : 94 %\n",
      "Accuracy of     V : 72 %\n",
      "Accuracy of     W : 82 %\n",
      "Accuracy of     X : 80 %\n",
      "Accuracy of     Y : 69 %\n",
      "Accuracy of     Z : 51 %\n",
      "Accuracy of     a : 80 %\n",
      "Accuracy of     b : 86 %\n",
      "Accuracy of     c :  0 %\n",
      "Accuracy of     d : 96 %\n",
      "Accuracy of     e : 96 %\n",
      "Accuracy of     f :  2 %\n",
      "Accuracy of     g : 26 %\n",
      "Accuracy of     h : 92 %\n",
      "Accuracy of     i : 34 %\n",
      "Accuracy of     j : 56 %\n",
      "Accuracy of     k : 49 %\n",
      "Accuracy of     l :  5 %\n",
      "Accuracy of     m : 50 %\n",
      "Accuracy of     n : 89 %\n",
      "Accuracy of     o :  0 %\n",
      "Accuracy of     p : 21 %\n",
      "Accuracy of     q : 24 %\n",
      "Accuracy of     r : 96 %\n",
      "Accuracy of     s :  0 %\n",
      "Accuracy of     t : 93 %\n",
      "Accuracy of     u :  2 %\n",
      "Accuracy of     v : 33 %\n",
      "Accuracy of     w : 49 %\n",
      "Accuracy of     x : 49 %\n",
      "Accuracy of     y : 29 %\n",
      "Accuracy of     z : 49 %\n"
     ]
    }
   ],
   "source": [
    "class_correct = list(0. for i in range(len(classes)))\n",
    "class_total = list(0. for i in range(len(classes)))\n",
    "with torch.no_grad():\n",
    "    for data in test_loader:\n",
    "        images, labels = data\n",
    "        outputs = net(images)\n",
    "        _, predicted = torch.max(outputs, 1)\n",
    "        c = (predicted == labels).squeeze()\n",
    "        for i in range(len(predicted)):\n",
    "            label = labels[i]\n",
    "            class_correct[label] += c[i].item()\n",
    "            class_total[label] += 1\n",
    "\n",
    "\n",
    "for i in range(len(classes)):\n",
    "    print('Accuracy of %5s : %2d %%' % (\n",
    "        classes[i], 100 * class_correct[i] / class_total[i]))"
   ]
  },
  {
   "cell_type": "code",
   "execution_count": null,
   "metadata": {},
   "outputs": [],
   "source": []
  }
 ],
 "metadata": {
  "kernelspec": {
   "display_name": "Python 3",
   "language": "python",
   "name": "python3"
  },
  "language_info": {
   "codemirror_mode": {
    "name": "ipython",
    "version": 3
   },
   "file_extension": ".py",
   "mimetype": "text/x-python",
   "name": "python",
   "nbconvert_exporter": "python",
   "pygments_lexer": "ipython3",
   "version": "3.6.9"
  }
 },
 "nbformat": 4,
 "nbformat_minor": 4
}
